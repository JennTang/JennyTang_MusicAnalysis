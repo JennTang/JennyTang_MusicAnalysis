{
 "cells": [
  {
   "cell_type": "code",
   "execution_count": 15,
   "metadata": {},
   "outputs": [],
   "source": [
    "#Import Libraries \n",
    "\n",
    "import json\n",
    "from pprint import pprint\n",
    "import pandas as pd\n",
    "from pandas.io.json import json_normalize"
   ]
  },
  {
   "cell_type": "code",
   "execution_count": null,
   "metadata": {
    "scrolled": true
   },
   "outputs": [],
   "source": [
    "#Read JSON Files from Spotify Data\n",
    "\n",
    "with open('C:/Users/jenta/Documents/my_spotify_data/MyData/streamingHistory0.json', encoding=\"utf8\") as f:\n",
    "    streamingHistory = json.load(f)\n",
    "\n",
    "pprint(streamingHistory)"
   ]
  },
  {
   "cell_type": "code",
   "execution_count": 23,
   "metadata": {},
   "outputs": [
    {
     "data": {
      "text/plain": [
       "Index(['endTime', 'artistName', 'trackName', 'msPlayed'], dtype='object')"
      ]
     },
     "execution_count": 23,
     "metadata": {},
     "output_type": "execute_result"
    }
   ],
   "source": [
    "# Read the keys of the JSON Files to understand what will be Columns\n",
    "df_streamingHistory.keys()"
   ]
  },
  {
   "cell_type": "code",
   "execution_count": 36,
   "metadata": {},
   "outputs": [
    {
     "data": {
      "text/html": [
       "<div>\n",
       "<style scoped>\n",
       "    .dataframe tbody tr th:only-of-type {\n",
       "        vertical-align: middle;\n",
       "    }\n",
       "\n",
       "    .dataframe tbody tr th {\n",
       "        vertical-align: top;\n",
       "    }\n",
       "\n",
       "    .dataframe thead th {\n",
       "        text-align: right;\n",
       "    }\n",
       "</style>\n",
       "<table border=\"1\" class=\"dataframe\">\n",
       "  <thead>\n",
       "    <tr style=\"text-align: right;\">\n",
       "      <th></th>\n",
       "      <th>endTime</th>\n",
       "      <th>artistName</th>\n",
       "      <th>trackName</th>\n",
       "      <th>msPlayed</th>\n",
       "    </tr>\n",
       "  </thead>\n",
       "  <tbody>\n",
       "    <tr>\n",
       "      <td>0</td>\n",
       "      <td>2019-11-16 05:17</td>\n",
       "      <td>JJ Lin</td>\n",
       "      <td>Wonderland</td>\n",
       "      <td>189030</td>\n",
       "    </tr>\n",
       "    <tr>\n",
       "      <td>1</td>\n",
       "      <td>2019-11-18 00:03</td>\n",
       "      <td>Cash Cash</td>\n",
       "      <td>How to Love (feat. Sofia Reyes)</td>\n",
       "      <td>219240</td>\n",
       "    </tr>\n",
       "    <tr>\n",
       "      <td>2</td>\n",
       "      <td>2019-11-18 00:06</td>\n",
       "      <td>Henry</td>\n",
       "      <td>Don’t Forget (Feat. Rocoberry)</td>\n",
       "      <td>201013</td>\n",
       "    </tr>\n",
       "    <tr>\n",
       "      <td>3</td>\n",
       "      <td>2019-11-18 00:54</td>\n",
       "      <td>Diplo</td>\n",
       "      <td>Lonely</td>\n",
       "      <td>69973</td>\n",
       "    </tr>\n",
       "    <tr>\n",
       "      <td>4</td>\n",
       "      <td>2019-11-18 00:55</td>\n",
       "      <td>JJ Lin</td>\n",
       "      <td>那些你很冒險的夢</td>\n",
       "      <td>16746</td>\n",
       "    </tr>\n",
       "    <tr>\n",
       "      <td>...</td>\n",
       "      <td>...</td>\n",
       "      <td>...</td>\n",
       "      <td>...</td>\n",
       "      <td>...</td>\n",
       "    </tr>\n",
       "    <tr>\n",
       "      <td>9771</td>\n",
       "      <td>2020-11-18 16:55</td>\n",
       "      <td>Henry</td>\n",
       "      <td>HANDS UP (Feat. pH-1)</td>\n",
       "      <td>189091</td>\n",
       "    </tr>\n",
       "    <tr>\n",
       "      <td>9772</td>\n",
       "      <td>2020-11-18 16:58</td>\n",
       "      <td>Henry</td>\n",
       "      <td>RIGHT NOW</td>\n",
       "      <td>166494</td>\n",
       "    </tr>\n",
       "    <tr>\n",
       "      <td>9773</td>\n",
       "      <td>2020-11-18 17:01</td>\n",
       "      <td>Henry</td>\n",
       "      <td>JUST BE ME</td>\n",
       "      <td>185256</td>\n",
       "    </tr>\n",
       "    <tr>\n",
       "      <td>9774</td>\n",
       "      <td>2020-11-18 17:05</td>\n",
       "      <td>Henry</td>\n",
       "      <td>COME OVER (Feat. GRAY, KIM GO EUN, PARK NA RAE...</td>\n",
       "      <td>226026</td>\n",
       "    </tr>\n",
       "    <tr>\n",
       "      <td>9775</td>\n",
       "      <td>2020-11-18 17:06</td>\n",
       "      <td>Henry</td>\n",
       "      <td>RADIO (Instrumental)</td>\n",
       "      <td>56177</td>\n",
       "    </tr>\n",
       "  </tbody>\n",
       "</table>\n",
       "<p>9776 rows × 4 columns</p>\n",
       "</div>"
      ],
      "text/plain": [
       "               endTime artistName  \\\n",
       "0     2019-11-16 05:17     JJ Lin   \n",
       "1     2019-11-18 00:03  Cash Cash   \n",
       "2     2019-11-18 00:06      Henry   \n",
       "3     2019-11-18 00:54      Diplo   \n",
       "4     2019-11-18 00:55     JJ Lin   \n",
       "...                ...        ...   \n",
       "9771  2020-11-18 16:55      Henry   \n",
       "9772  2020-11-18 16:58      Henry   \n",
       "9773  2020-11-18 17:01      Henry   \n",
       "9774  2020-11-18 17:05      Henry   \n",
       "9775  2020-11-18 17:06      Henry   \n",
       "\n",
       "                                              trackName  msPlayed  \n",
       "0                                            Wonderland    189030  \n",
       "1                       How to Love (feat. Sofia Reyes)    219240  \n",
       "2                        Don’t Forget (Feat. Rocoberry)    201013  \n",
       "3                                                Lonely     69973  \n",
       "4                                              那些你很冒險的夢     16746  \n",
       "...                                                 ...       ...  \n",
       "9771                              HANDS UP (Feat. pH-1)    189091  \n",
       "9772                                          RIGHT NOW    166494  \n",
       "9773                                         JUST BE ME    185256  \n",
       "9774  COME OVER (Feat. GRAY, KIM GO EUN, PARK NA RAE...    226026  \n",
       "9775                               RADIO (Instrumental)     56177  \n",
       "\n",
       "[9776 rows x 4 columns]"
      ]
     },
     "execution_count": 36,
     "metadata": {},
     "output_type": "execute_result"
    }
   ],
   "source": [
    "# Flatten JSON into a Dataframe / Table\n",
    "streamingData = json_normalize(streamingHistory)\n",
    "#streamingData.info()\n",
    "streamingData"
   ]
  },
  {
   "cell_type": "code",
   "execution_count": null,
   "metadata": {},
   "outputs": [],
   "source": []
  }
 ],
 "metadata": {
  "kernelspec": {
   "display_name": "Python 3",
   "language": "python",
   "name": "python3"
  },
  "language_info": {
   "codemirror_mode": {
    "name": "ipython",
    "version": 3
   },
   "file_extension": ".py",
   "mimetype": "text/x-python",
   "name": "python",
   "nbconvert_exporter": "python",
   "pygments_lexer": "ipython3",
   "version": "3.7.4"
  }
 },
 "nbformat": 4,
 "nbformat_minor": 2
}
